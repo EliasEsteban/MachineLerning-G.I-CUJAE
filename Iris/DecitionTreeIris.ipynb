{
 "cells": [
  {
   "cell_type": "code",
   "execution_count": 1,
   "metadata": {},
   "outputs": [
    {
     "data": {
      "text/plain": [
       "array([[1.4, 0.2],\n",
       "       [1.4, 0.2],\n",
       "       [1.3, 0.2],\n",
       "       [1.5, 0.2],\n",
       "       [1.4, 0.2]])"
      ]
     },
     "metadata": {},
     "output_type": "display_data"
    },
    {
     "data": {
      "text/plain": [
       "array([[1.4, 0.2, 0. ],\n",
       "       [1.4, 0.2, 0. ],\n",
       "       [1.3, 0.2, 0. ],\n",
       "       [1.5, 0.2, 0. ],\n",
       "       [1.4, 0.2, 0. ],\n",
       "       [1.7, 0.4, 0. ],\n",
       "       [1.4, 0.3, 0. ],\n",
       "       [1.5, 0.2, 0. ],\n",
       "       [1.4, 0.2, 0. ],\n",
       "       [1.5, 0.1, 0. ],\n",
       "       [1.5, 0.2, 0. ],\n",
       "       [1.6, 0.2, 0. ],\n",
       "       [1.4, 0.1, 0. ],\n",
       "       [1.1, 0.1, 0. ],\n",
       "       [1.2, 0.2, 0. ],\n",
       "       [1.5, 0.4, 0. ],\n",
       "       [1.3, 0.4, 0. ],\n",
       "       [1.4, 0.3, 0. ],\n",
       "       [1.7, 0.3, 0. ],\n",
       "       [1.5, 0.3, 0. ],\n",
       "       [1.7, 0.2, 0. ],\n",
       "       [1.5, 0.4, 0. ],\n",
       "       [1. , 0.2, 0. ],\n",
       "       [1.7, 0.5, 0. ],\n",
       "       [1.9, 0.2, 0. ],\n",
       "       [1.6, 0.2, 0. ],\n",
       "       [1.6, 0.4, 0. ],\n",
       "       [1.5, 0.2, 0. ],\n",
       "       [1.4, 0.2, 0. ],\n",
       "       [1.6, 0.2, 0. ],\n",
       "       [1.6, 0.2, 0. ],\n",
       "       [1.5, 0.4, 0. ],\n",
       "       [1.5, 0.1, 0. ],\n",
       "       [1.4, 0.2, 0. ],\n",
       "       [1.5, 0.2, 0. ],\n",
       "       [1.2, 0.2, 0. ],\n",
       "       [1.3, 0.2, 0. ],\n",
       "       [1.4, 0.1, 0. ],\n",
       "       [1.3, 0.2, 0. ],\n",
       "       [1.5, 0.2, 0. ],\n",
       "       [1.3, 0.3, 0. ],\n",
       "       [1.3, 0.3, 0. ],\n",
       "       [1.3, 0.2, 0. ],\n",
       "       [1.6, 0.6, 0. ],\n",
       "       [1.9, 0.4, 0. ],\n",
       "       [1.4, 0.3, 0. ],\n",
       "       [1.6, 0.2, 0. ],\n",
       "       [1.4, 0.2, 0. ],\n",
       "       [1.5, 0.2, 0. ],\n",
       "       [1.4, 0.2, 0. ],\n",
       "       [4.7, 1.4, 1. ],\n",
       "       [4.5, 1.5, 1. ],\n",
       "       [4.9, 1.5, 1. ],\n",
       "       [4. , 1.3, 1. ],\n",
       "       [4.6, 1.5, 1. ],\n",
       "       [4.5, 1.3, 1. ],\n",
       "       [4.7, 1.6, 1. ],\n",
       "       [3.3, 1. , 1. ],\n",
       "       [4.6, 1.3, 1. ],\n",
       "       [3.9, 1.4, 1. ],\n",
       "       [3.5, 1. , 1. ],\n",
       "       [4.2, 1.5, 1. ],\n",
       "       [4. , 1. , 1. ],\n",
       "       [4.7, 1.4, 1. ],\n",
       "       [3.6, 1.3, 1. ],\n",
       "       [4.4, 1.4, 1. ],\n",
       "       [4.5, 1.5, 1. ],\n",
       "       [4.1, 1. , 1. ],\n",
       "       [4.5, 1.5, 1. ],\n",
       "       [3.9, 1.1, 1. ],\n",
       "       [4.8, 1.8, 1. ],\n",
       "       [4. , 1.3, 1. ],\n",
       "       [4.9, 1.5, 1. ],\n",
       "       [4.7, 1.2, 1. ],\n",
       "       [4.3, 1.3, 1. ],\n",
       "       [4.4, 1.4, 1. ],\n",
       "       [4.8, 1.4, 1. ],\n",
       "       [5. , 1.7, 1. ],\n",
       "       [4.5, 1.5, 1. ],\n",
       "       [3.5, 1. , 1. ],\n",
       "       [3.8, 1.1, 1. ],\n",
       "       [3.7, 1. , 1. ],\n",
       "       [3.9, 1.2, 1. ],\n",
       "       [5.1, 1.6, 1. ],\n",
       "       [4.5, 1.5, 1. ],\n",
       "       [4.5, 1.6, 1. ],\n",
       "       [4.7, 1.5, 1. ],\n",
       "       [4.4, 1.3, 1. ],\n",
       "       [4.1, 1.3, 1. ],\n",
       "       [4. , 1.3, 1. ],\n",
       "       [4.4, 1.2, 1. ],\n",
       "       [4.6, 1.4, 1. ],\n",
       "       [4. , 1.2, 1. ],\n",
       "       [3.3, 1. , 1. ],\n",
       "       [4.2, 1.3, 1. ],\n",
       "       [4.2, 1.2, 1. ],\n",
       "       [4.2, 1.3, 1. ],\n",
       "       [4.3, 1.3, 1. ],\n",
       "       [3. , 1.1, 1. ],\n",
       "       [4.1, 1.3, 1. ],\n",
       "       [6. , 2.5, 2. ],\n",
       "       [5.1, 1.9, 2. ],\n",
       "       [5.9, 2.1, 2. ],\n",
       "       [5.6, 1.8, 2. ],\n",
       "       [5.8, 2.2, 2. ],\n",
       "       [6.6, 2.1, 2. ],\n",
       "       [4.5, 1.7, 2. ],\n",
       "       [6.3, 1.8, 2. ],\n",
       "       [5.8, 1.8, 2. ],\n",
       "       [6.1, 2.5, 2. ],\n",
       "       [5.1, 2. , 2. ],\n",
       "       [5.3, 1.9, 2. ],\n",
       "       [5.5, 2.1, 2. ],\n",
       "       [5. , 2. , 2. ],\n",
       "       [5.1, 2.4, 2. ],\n",
       "       [5.3, 2.3, 2. ],\n",
       "       [5.5, 1.8, 2. ],\n",
       "       [6.7, 2.2, 2. ],\n",
       "       [6.9, 2.3, 2. ],\n",
       "       [5. , 1.5, 2. ],\n",
       "       [5.7, 2.3, 2. ],\n",
       "       [4.9, 2. , 2. ],\n",
       "       [6.7, 2. , 2. ],\n",
       "       [4.9, 1.8, 2. ],\n",
       "       [5.7, 2.1, 2. ],\n",
       "       [6. , 1.8, 2. ],\n",
       "       [4.8, 1.8, 2. ],\n",
       "       [4.9, 1.8, 2. ],\n",
       "       [5.6, 2.1, 2. ],\n",
       "       [5.8, 1.6, 2. ],\n",
       "       [6.1, 1.9, 2. ],\n",
       "       [6.4, 2. , 2. ],\n",
       "       [5.6, 2.2, 2. ],\n",
       "       [5.1, 1.5, 2. ],\n",
       "       [5.6, 1.4, 2. ],\n",
       "       [6.1, 2.3, 2. ],\n",
       "       [5.6, 2.4, 2. ],\n",
       "       [5.5, 1.8, 2. ],\n",
       "       [4.8, 1.8, 2. ],\n",
       "       [5.4, 2.1, 2. ],\n",
       "       [5.6, 2.4, 2. ],\n",
       "       [5.1, 2.3, 2. ],\n",
       "       [5.1, 1.9, 2. ],\n",
       "       [5.9, 2.3, 2. ],\n",
       "       [5.7, 2.5, 2. ],\n",
       "       [5.2, 2.3, 2. ],\n",
       "       [5. , 1.9, 2. ],\n",
       "       [5.2, 2. , 2. ],\n",
       "       [5.4, 2.3, 2. ],\n",
       "       [5.1, 1.8, 2. ]])"
      ]
     },
     "metadata": {},
     "output_type": "display_data"
    },
    {
     "data": {
      "text/plain": [
       "'\\nClass labels:'"
      ]
     },
     "metadata": {},
     "output_type": "display_data"
    },
    {
     "data": {
      "text/plain": [
       "array([0, 1, 2])"
      ]
     },
     "metadata": {},
     "output_type": "display_data"
    }
   ],
   "source": [
    "from sklearn import datasets\n",
    "import numpy as np\n",
    "# Cargamos los datos de iris\n",
    "\n",
    "iris = datasets.load_iris()\n",
    "X = iris.data[:, [2, 3]]\n",
    "y = iris.target\n",
    "display(X[:5])\n",
    "\n",
    "display(np.concatenate([X, y.reshape(-1,1)], axis=1))\n",
    "\n",
    "display('\\nClass labels:', np.unique(y))"
   ]
  },
  {
   "cell_type": "code",
   "execution_count": 2,
   "metadata": {},
   "outputs": [
    {
     "data": {
      "text/html": [
       "<div>\n",
       "<style scoped>\n",
       "    .dataframe tbody tr th:only-of-type {\n",
       "        vertical-align: middle;\n",
       "    }\n",
       "\n",
       "    .dataframe tbody tr th {\n",
       "        vertical-align: top;\n",
       "    }\n",
       "\n",
       "    .dataframe thead th {\n",
       "        text-align: right;\n",
       "    }\n",
       "</style>\n",
       "<table border=\"1\" class=\"dataframe\">\n",
       "  <thead>\n",
       "    <tr style=\"text-align: right;\">\n",
       "      <th></th>\n",
       "      <th>Id</th>\n",
       "      <th>SepalLengthCm</th>\n",
       "      <th>SepalWidthCm</th>\n",
       "      <th>PetalLengthCm</th>\n",
       "      <th>PetalWidthCm</th>\n",
       "      <th>Species</th>\n",
       "    </tr>\n",
       "  </thead>\n",
       "  <tbody>\n",
       "    <tr>\n",
       "      <th>0</th>\n",
       "      <td>1</td>\n",
       "      <td>5.1</td>\n",
       "      <td>3.5</td>\n",
       "      <td>1.4</td>\n",
       "      <td>0.2</td>\n",
       "      <td>Iris-setosa</td>\n",
       "    </tr>\n",
       "    <tr>\n",
       "      <th>1</th>\n",
       "      <td>2</td>\n",
       "      <td>4.9</td>\n",
       "      <td>3.0</td>\n",
       "      <td>1.4</td>\n",
       "      <td>0.2</td>\n",
       "      <td>Iris-setosa</td>\n",
       "    </tr>\n",
       "    <tr>\n",
       "      <th>2</th>\n",
       "      <td>3</td>\n",
       "      <td>4.7</td>\n",
       "      <td>3.2</td>\n",
       "      <td>1.3</td>\n",
       "      <td>0.2</td>\n",
       "      <td>Iris-setosa</td>\n",
       "    </tr>\n",
       "    <tr>\n",
       "      <th>3</th>\n",
       "      <td>4</td>\n",
       "      <td>4.6</td>\n",
       "      <td>3.1</td>\n",
       "      <td>1.5</td>\n",
       "      <td>0.2</td>\n",
       "      <td>Iris-setosa</td>\n",
       "    </tr>\n",
       "    <tr>\n",
       "      <th>4</th>\n",
       "      <td>5</td>\n",
       "      <td>5.0</td>\n",
       "      <td>3.6</td>\n",
       "      <td>1.4</td>\n",
       "      <td>0.2</td>\n",
       "      <td>Iris-setosa</td>\n",
       "    </tr>\n",
       "  </tbody>\n",
       "</table>\n",
       "</div>"
      ],
      "text/plain": [
       "   Id  SepalLengthCm  SepalWidthCm  PetalLengthCm  PetalWidthCm      Species\n",
       "0   1            5.1           3.5            1.4           0.2  Iris-setosa\n",
       "1   2            4.9           3.0            1.4           0.2  Iris-setosa\n",
       "2   3            4.7           3.2            1.3           0.2  Iris-setosa\n",
       "3   4            4.6           3.1            1.5           0.2  Iris-setosa\n",
       "4   5            5.0           3.6            1.4           0.2  Iris-setosa"
      ]
     },
     "execution_count": 2,
     "metadata": {},
     "output_type": "execute_result"
    }
   ],
   "source": [
    "# Abre archivo\n",
    "import pandas as pd\n",
    "df= pd.read_csv(\"Iris.csv\", header=0)\n",
    "\n",
    "# Mostrar ptimeros 5 registros\n",
    "df[:5]"
   ]
  },
  {
   "cell_type": "code",
   "execution_count": 3,
   "metadata": {},
   "outputs": [
    {
     "name": "stdout",
     "output_type": "stream",
     "text": [
      "Etiquetas de clase: ['Iris-setosa' 'Iris-versicolor' 'Iris-virginica']\n"
     ]
    }
   ],
   "source": [
    "#CLASIFICAR CON LOS VALORES DE X: R,G,B,ExR,NGRDI ; y es la columna 12\n",
    "X1 = df.iloc[: , [3,4]].values\n",
    "#X = df.iloc[: , 2:12].values\n",
    "y1 = df.iloc[: ,5].values\n",
    "\n",
    "#imprime las clases\n",
    "print('Etiquetas de clase:', np.unique(y1))"
   ]
  },
  {
   "cell_type": "code",
   "execution_count": 4,
   "metadata": {},
   "outputs": [],
   "source": [
    "from sklearn.model_selection import train_test_split\n",
    "\n",
    "# 70 % del conjunto de datos para entrenamiento y 30 % para validacion\n",
    "X_train, X_test, y_train, y_test = train_test_split(X, y,\n",
    "                                                    train_size = 0.5,\n",
    "                                                    random_state = 2,\n",
    "                                                    stratify = y)"
   ]
  },
  {
   "cell_type": "code",
   "execution_count": 5,
   "metadata": {},
   "outputs": [
    {
     "name": "stdout",
     "output_type": "stream",
     "text": [
      "Numero de muestras en y: (150,)\n",
      "Numero de muestras en y_train: (75,)\n",
      "Numero de muestras en y_test: (75,)\n"
     ]
    },
    {
     "data": {
      "text/plain": [
       "array([[5. , 1.7],\n",
       "       [4.5, 1.3],\n",
       "       [5.1, 1.8],\n",
       "       [5.8, 1.8],\n",
       "       [4.5, 1.6],\n",
       "       [5.7, 2.5],\n",
       "       [4.8, 1.8],\n",
       "       [1.9, 0.2],\n",
       "       [1.4, 0.1],\n",
       "       [5.5, 2.1],\n",
       "       [4.5, 1.7],\n",
       "       [1.4, 0.2],\n",
       "       [1.3, 0.2],\n",
       "       [4.9, 1.8],\n",
       "       [5.6, 1.4],\n",
       "       [4.4, 1.4],\n",
       "       [4.7, 1.5],\n",
       "       [1.1, 0.1],\n",
       "       [3.3, 1. ],\n",
       "       [5. , 1.5],\n",
       "       [5. , 1.9],\n",
       "       [1.6, 0.2],\n",
       "       [1.6, 0.2],\n",
       "       [5.9, 2.1],\n",
       "       [3.6, 1.3],\n",
       "       [4.4, 1.4],\n",
       "       [5.7, 2.1],\n",
       "       [1.9, 0.4],\n",
       "       [1.4, 0.3],\n",
       "       [5.8, 2.2],\n",
       "       [1.6, 0.2],\n",
       "       [4.7, 1.4],\n",
       "       [1.4, 0.2],\n",
       "       [5.6, 1.8],\n",
       "       [1.4, 0.2],\n",
       "       [1.4, 0.2],\n",
       "       [1.5, 0.1],\n",
       "       [4.9, 1.5],\n",
       "       [1.5, 0.2],\n",
       "       [6. , 1.8],\n",
       "       [4.9, 2. ],\n",
       "       [4. , 1.3],\n",
       "       [3.8, 1.1],\n",
       "       [4.4, 1.3],\n",
       "       [3.7, 1. ],\n",
       "       [6.6, 2.1],\n",
       "       [5.2, 2.3],\n",
       "       [4.5, 1.5],\n",
       "       [4.5, 1.5],\n",
       "       [6.1, 2.3],\n",
       "       [1.7, 0.4],\n",
       "       [1.7, 0.5],\n",
       "       [5.5, 1.8],\n",
       "       [1.5, 0.2],\n",
       "       [4.1, 1.3],\n",
       "       [5.8, 1.6],\n",
       "       [5.1, 1.9],\n",
       "       [1.2, 0.2],\n",
       "       [1.5, 0.1],\n",
       "       [4.7, 1.4],\n",
       "       [4.2, 1.3],\n",
       "       [4. , 1.3],\n",
       "       [1.3, 0.4],\n",
       "       [4.7, 1.2],\n",
       "       [5.1, 1.6],\n",
       "       [5.6, 2.2],\n",
       "       [3.5, 1. ],\n",
       "       [1.3, 0.2],\n",
       "       [1.6, 0.2],\n",
       "       [5.1, 2. ],\n",
       "       [6.4, 2. ],\n",
       "       [5.1, 2.3],\n",
       "       [4.2, 1.5],\n",
       "       [1.4, 0.2],\n",
       "       [1.5, 0.2]])"
      ]
     },
     "metadata": {},
     "output_type": "display_data"
    }
   ],
   "source": [
    "print('Numero de muestras en y:', y.shape)\n",
    "print('Numero de muestras en y_train:', y_train.shape)\n",
    "print('Numero de muestras en y_test:', y_test.shape)\n",
    "\n",
    "display(X_train)"
   ]
  },
  {
   "cell_type": "code",
   "execution_count": 6,
   "metadata": {},
   "outputs": [
    {
     "name": "stdout",
     "output_type": "stream",
     "text": [
      "Train Accuracy : 0.98667\n",
      "Test Accuracy : 0.96000\n"
     ]
    }
   ],
   "source": [
    "from sklearn.tree import DecisionTreeClassifier\n",
    "\n",
    "# Configuración del modelo\n",
    "arbol = DecisionTreeClassifier(criterion ='gini', \n",
    "                                    max_depth = 4, \n",
    "                                    random_state = 1)\n",
    "# Ajuste del modelo. Entrenamiento\n",
    "arbol.fit(X_train, y_train)\n",
    "\n",
    "\n",
    "# Precision global de clasificación corecta\n",
    "print('Train Accuracy : %.5f' % arbol.score(X_train, y_train))\n",
    "print('Test Accuracy : %.5f' % arbol.score(X_test, y_test))"
   ]
  },
  {
   "cell_type": "code",
   "execution_count": 7,
   "metadata": {},
   "outputs": [],
   "source": [
    "from matplotlib.colors import ListedColormap\n",
    "import matplotlib.pyplot as plt\n",
    "\n",
    "def plot_decision_regions(X, y, classifier, test_idx=None, resolution=0.02):\n",
    "\n",
    "    # configurar el generador de marcadores y el mapa de colores\n",
    "    markers = ('s', 'x', 'o', '^', 'v')\n",
    "    colors = ('red', 'blue', 'lightgreen', 'gray', 'cyan')\n",
    "    cmap = ListedColormap(colors[:len(np.unique(y))])\n",
    "\n",
    "    # trazar la superficie de decisión\n",
    "    x1_min, x1_max = X[:, 0].min() - 1, X[:, 0].max() + 1\n",
    "    x2_min, x2_max = X[:, 1].min() - 1, X[:, 1].max() + 1\n",
    "    xx1, xx2 = np.meshgrid(np.arange(x1_min, x1_max, resolution),\n",
    "                           np.arange(x2_min, x2_max, resolution))\n",
    "    Z = classifier.predict(np.array([xx1.ravel(), xx2.ravel()]).T)\n",
    "    Z = Z.reshape(xx1.shape)\n",
    "    plt.contourf(xx1, xx2, Z, alpha=0.3, cmap=cmap)\n",
    "    plt.xlim(xx1.min(), xx1.max())\n",
    "    plt.ylim(xx2.min(), xx2.max())\n",
    "\n",
    "    for idx, cl in enumerate(np.unique(y)):\n",
    "        plt.scatter(x=X[y == cl, 0], \n",
    "                    y=X[y == cl, 1],\n",
    "                    alpha=0.8, \n",
    "                    color=colors[idx],\n",
    "                    marker=markers[idx], \n",
    "                    label=cl, \n",
    "                    edgecolor='black')\n",
    "\n",
    "    # resaltar ejemplos de prueba\n",
    "    if test_idx:\n",
    "        # graficar todos los ejemplos\n",
    "        X_test, y_test = X[test_idx, :], y[test_idx]\n",
    "\n",
    "        plt.scatter(X_test[:, 0],\n",
    "                        X_test[:, 1],\n",
    "                        c='none',\n",
    "                        edgecolor='black',\n",
    "                        alpha=1.0,\n",
    "                        linewidth=1,\n",
    "                        marker='o',\n",
    "                        s=100, \n",
    "                        label='test set')"
   ]
  },
  {
   "cell_type": "code",
   "execution_count": 8,
   "metadata": {},
   "outputs": [
    {
     "name": "stderr",
     "output_type": "stream",
     "text": [
      "C:\\Users\\zz\\AppData\\Local\\Temp\\ipykernel_1872\\2516210683.py:23: UserWarning: You passed a edgecolor/edgecolors ('black') for an unfilled marker ('x').  Matplotlib is ignoring the edgecolor in favor of the facecolor.  This behavior may change in the future.\n",
      "  plt.scatter(x=X[y == cl, 0],\n"
     ]
    },
    {
     "data": {
      "image/png": "[encoded data removed]",
      "text/plain": [
       "<Figure size 640x480 with 1 Axes>"
      ]
     },
     "metadata": {},
     "output_type": "display_data"
    }
   ],
   "source": [
    "# Graficar Region de desición\n",
    "X_combined = np.vstack((X_train, X_test))\n",
    "y_combined = np.hstack((y_train, y_test))\n",
    "\n",
    "plot_decision_regions(X_combined, y_combined, \n",
    "                      classifier = arbol,\n",
    "                      test_idx = range(105, 150))\n",
    "\n",
    "plt.xlabel('Longitud de pétalo [cm]')\n",
    "plt.ylabel('Ancho de pétalo [cm]')\n",
    "plt.legend(loc='upper left')\n",
    "plt.tight_layout()\n",
    "#plt.savefig('images/03_20.png', dpi=300)\n",
    "plt.show()"
   ]
  },
  {
   "cell_type": "code",
   "execution_count": 9,
   "metadata": {},
   "outputs": [
    {
     "data": {
      "image/png": "[encoded data removed]",
      "text/plain": [
       "<Figure size 640x480 with 1 Axes>"
      ]
     },
     "metadata": {},
     "output_type": "display_data"
    }
   ],
   "source": [
    "from sklearn import tree\n",
    "\n",
    "tree.plot_tree(arbol)\n",
    "#plt.savefig('images/03_21_1.pdf')\n",
    "plt.show()"
   ]
  },
  {
   "cell_type": "code",
   "execution_count": 10,
   "metadata": {},
   "outputs": [
    {
     "name": "stdout",
     "output_type": "stream",
     "text": [
      "[0]\n"
     ]
    }
   ],
   "source": [
    "res = arbol.predict([[1.4,0.2]])\n",
    "print(res)\n"
   ]
  }
 ],
 "metadata": {
  "kernelspec": {
   "display_name": "Python 3.11.0 64-bit",
   "language": "python",
   "name": "python3"
  },
  "language_info": {
   "codemirror_mode": {
    "name": "ipython",
    "version": 3
   },
   "file_extension": ".py",
   "mimetype": "text/x-python",
   "name": "python",
   "nbconvert_exporter": "python",
   "pygments_lexer": "ipython3",
   "version": "3.11.0"
  },
  "orig_nbformat": 4,
  "vscode": {
   "interpreter": {
    "hash": "5238573367df39f7286bb46f9ff5f08f63a01a80960060ce41e3c79b190280fa"
   }
  }
 },
 "nbformat": 4,
 "nbformat_minor": 2
}
